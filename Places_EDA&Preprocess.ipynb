{
 "cells": [
  {
   "cell_type": "markdown",
   "id": "9bc20208-d1c4-4b8a-b1f7-cd1e38722a54",
   "metadata": {},
   "source": [
    "## Importing required libraries"
   ]
  },
  {
   "cell_type": "code",
   "execution_count": 1,
   "id": "9659b625-fcd4-4e0a-87d7-5dfdd735e33f",
   "metadata": {},
   "outputs": [],
   "source": [
    "import pandas as pd\n",
    "import numpy as np\n",
    "import matplotlib.pyplot as plt\n",
    "import seaborn as sns\n",
    "import ftfy\n",
    "from unidecode import unidecode"
   ]
  },
  {
   "cell_type": "markdown",
   "id": "4a318c53-5848-496f-bcce-b3b4b2dc0a3f",
   "metadata": {},
   "source": [
    "## load the dataset"
   ]
  },
  {
   "cell_type": "code",
   "execution_count": 2,
   "id": "b0581b63-831a-440f-8319-321141ea7ca4",
   "metadata": {},
   "outputs": [
    {
     "data": {
      "text/html": [
       "<div>\n",
       "<style scoped>\n",
       "    .dataframe tbody tr th:only-of-type {\n",
       "        vertical-align: middle;\n",
       "    }\n",
       "\n",
       "    .dataframe tbody tr th {\n",
       "        vertical-align: top;\n",
       "    }\n",
       "\n",
       "    .dataframe thead th {\n",
       "        text-align: right;\n",
       "    }\n",
       "</style>\n",
       "<table border=\"1\" class=\"dataframe\">\n",
       "  <thead>\n",
       "    <tr style=\"text-align: right;\">\n",
       "      <th></th>\n",
       "      <th>name</th>\n",
       "      <th>activities</th>\n",
       "      <th>lat</th>\n",
       "      <th>lng</th>\n",
       "      <th>formatted_address</th>\n",
       "      <th>rating</th>\n",
       "      <th>user_ratings_total</th>\n",
       "      <th>latest_reviews</th>\n",
       "    </tr>\n",
       "  </thead>\n",
       "  <tbody>\n",
       "    <tr>\n",
       "      <th>0</th>\n",
       "      <td>Arugam Bay Beach</td>\n",
       "      <td>['beach visits', 'beachfront dining', 'surfing']</td>\n",
       "      <td>6.840408</td>\n",
       "      <td>81.836848</td>\n",
       "      <td>Arugam Bay Beach, Sri Lanka</td>\n",
       "      <td>4.8</td>\n",
       "      <td>1591.0</td>\n",
       "      <td>['Arugam Bay Beach is a surfer's paradise! I s...</td>\n",
       "    </tr>\n",
       "    <tr>\n",
       "      <th>1</th>\n",
       "      <td>Mirissa Beach</td>\n",
       "      <td>['beach visits', 'beachfront dining', 'snorkel...</td>\n",
       "      <td>5.944703</td>\n",
       "      <td>80.459161</td>\n",
       "      <td>Mirissa, Sri Lanka</td>\n",
       "      <td>4.6</td>\n",
       "      <td>1748.0</td>\n",
       "      <td>['Mirissa Beach is truly a gem on Sri Lanka's ...</td>\n",
       "    </tr>\n",
       "    <tr>\n",
       "      <th>2</th>\n",
       "      <td>Weligama Beach (surf and stay)</td>\n",
       "      <td>['beach visits', 'surfing']</td>\n",
       "      <td>5.972486</td>\n",
       "      <td>80.435714</td>\n",
       "      <td>Weligama, Sri Lanka</td>\n",
       "      <td>4.4</td>\n",
       "      <td>325.0</td>\n",
       "      <td>['Weligama Beach is a fantastic spot for both ...</td>\n",
       "    </tr>\n",
       "    <tr>\n",
       "      <th>3</th>\n",
       "      <td>Ahangama</td>\n",
       "      <td>['beach visits', 'surfing']</td>\n",
       "      <td>5.973975</td>\n",
       "      <td>80.362159</td>\n",
       "      <td>Ahangama, Sri Lanka</td>\n",
       "      <td>NaN</td>\n",
       "      <td>NaN</td>\n",
       "      <td>['Ahangama was a bit disappointing for me as a...</td>\n",
       "    </tr>\n",
       "    <tr>\n",
       "      <th>4</th>\n",
       "      <td>Hikkaduwa Beach</td>\n",
       "      <td>['beach visits', 'snorkeling', 'surfing', 'tur...</td>\n",
       "      <td>6.137727</td>\n",
       "      <td>80.099060</td>\n",
       "      <td>Hikkaduwa Beach, Sri Lanka</td>\n",
       "      <td>4.7</td>\n",
       "      <td>1438.0</td>\n",
       "      <td>['Hikkaduwa Beach is a delightful escape for s...</td>\n",
       "    </tr>\n",
       "  </tbody>\n",
       "</table>\n",
       "</div>"
      ],
      "text/plain": [
       "                             name  \\\n",
       "0                Arugam Bay Beach   \n",
       "1                   Mirissa Beach   \n",
       "2  Weligama Beach (surf and stay)   \n",
       "3                        Ahangama   \n",
       "4                 Hikkaduwa Beach   \n",
       "\n",
       "                                          activities       lat        lng  \\\n",
       "0   ['beach visits', 'beachfront dining', 'surfing']  6.840408  81.836848   \n",
       "1  ['beach visits', 'beachfront dining', 'snorkel...  5.944703  80.459161   \n",
       "2                        ['beach visits', 'surfing']  5.972486  80.435714   \n",
       "3                        ['beach visits', 'surfing']  5.973975  80.362159   \n",
       "4  ['beach visits', 'snorkeling', 'surfing', 'tur...  6.137727  80.099060   \n",
       "\n",
       "             formatted_address  rating  user_ratings_total  \\\n",
       "0  Arugam Bay Beach, Sri Lanka     4.8              1591.0   \n",
       "1           Mirissa, Sri Lanka     4.6              1748.0   \n",
       "2          Weligama, Sri Lanka     4.4               325.0   \n",
       "3          Ahangama, Sri Lanka     NaN                 NaN   \n",
       "4   Hikkaduwa Beach, Sri Lanka     4.7              1438.0   \n",
       "\n",
       "                                      latest_reviews  \n",
       "0  ['Arugam Bay Beach is a surfer's paradise! I s...  \n",
       "1  ['Mirissa Beach is truly a gem on Sri Lanka's ...  \n",
       "2  ['Weligama Beach is a fantastic spot for both ...  \n",
       "3  ['Ahangama was a bit disappointing for me as a...  \n",
       "4  ['Hikkaduwa Beach is a delightful escape for s...  "
      ]
     },
     "execution_count": 2,
     "metadata": {},
     "output_type": "execute_result"
    }
   ],
   "source": [
    "# Load the Excel file\n",
    "file_path = 'DataSets/places_oshen.xlsx'\n",
    "df = pd.read_excel(file_path)\n",
    "df.head()"
   ]
  },
  {
   "cell_type": "code",
   "execution_count": 3,
   "id": "65518de8-09eb-4365-8714-0f5dc7e9d519",
   "metadata": {},
   "outputs": [
    {
     "name": "stdout",
     "output_type": "stream",
     "text": [
      "<class 'pandas.core.frame.DataFrame'>\n",
      "RangeIndex: 411 entries, 0 to 410\n",
      "Data columns (total 8 columns):\n",
      " #   Column              Non-Null Count  Dtype  \n",
      "---  ------              --------------  -----  \n",
      " 0   name                411 non-null    object \n",
      " 1   activities          411 non-null    object \n",
      " 2   lat                 411 non-null    float64\n",
      " 3   lng                 411 non-null    float64\n",
      " 4   formatted_address   411 non-null    object \n",
      " 5   rating              401 non-null    float64\n",
      " 6   user_ratings_total  401 non-null    float64\n",
      " 7   latest_reviews      411 non-null    object \n",
      "dtypes: float64(4), object(4)\n",
      "memory usage: 25.8+ KB\n"
     ]
    }
   ],
   "source": [
    "df.info()"
   ]
  },
  {
   "cell_type": "code",
   "execution_count": 4,
   "id": "8b8b20cf-3741-4365-8053-71d1f7999d5f",
   "metadata": {},
   "outputs": [
    {
     "data": {
      "text/plain": [
       "(411, 8)"
      ]
     },
     "execution_count": 4,
     "metadata": {},
     "output_type": "execute_result"
    }
   ],
   "source": [
    "df.shape #number of rows and columns"
   ]
  },
  {
   "cell_type": "code",
   "execution_count": 5,
   "id": "7db88a46-4ddb-4a16-a6a7-5fe10d9cddca",
   "metadata": {},
   "outputs": [
    {
     "data": {
      "text/plain": [
       "name                  400\n",
       "activities            336\n",
       "lat                   404\n",
       "lng                   399\n",
       "formatted_address     221\n",
       "rating                 25\n",
       "user_ratings_total    346\n",
       "latest_reviews        410\n",
       "dtype: int64"
      ]
     },
     "execution_count": 5,
     "metadata": {},
     "output_type": "execute_result"
    }
   ],
   "source": [
    "df.nunique()"
   ]
  },
  {
   "cell_type": "code",
   "execution_count": 6,
   "id": "93077e51-e6b1-4c9c-a55e-a3c94c4c4978",
   "metadata": {},
   "outputs": [],
   "source": [
    "# Drop duplicate rows based on the 'Name' column\n",
    "df = df.drop_duplicates(subset='name')"
   ]
  },
  {
   "cell_type": "code",
   "execution_count": 7,
   "id": "787c177a-25c9-4295-981e-7e910e498255",
   "metadata": {},
   "outputs": [
    {
     "data": {
      "text/html": [
       "<div>\n",
       "<style scoped>\n",
       "    .dataframe tbody tr th:only-of-type {\n",
       "        vertical-align: middle;\n",
       "    }\n",
       "\n",
       "    .dataframe tbody tr th {\n",
       "        vertical-align: top;\n",
       "    }\n",
       "\n",
       "    .dataframe thead th {\n",
       "        text-align: right;\n",
       "    }\n",
       "</style>\n",
       "<table border=\"1\" class=\"dataframe\">\n",
       "  <thead>\n",
       "    <tr style=\"text-align: right;\">\n",
       "      <th></th>\n",
       "      <th>lat</th>\n",
       "      <th>lng</th>\n",
       "      <th>rating</th>\n",
       "      <th>user_ratings_total</th>\n",
       "    </tr>\n",
       "  </thead>\n",
       "  <tbody>\n",
       "    <tr>\n",
       "      <th>count</th>\n",
       "      <td>400.000000</td>\n",
       "      <td>400.000000</td>\n",
       "      <td>390.000000</td>\n",
       "      <td>390.000000</td>\n",
       "    </tr>\n",
       "    <tr>\n",
       "      <th>mean</th>\n",
       "      <td>7.323554</td>\n",
       "      <td>80.581228</td>\n",
       "      <td>4.454615</td>\n",
       "      <td>1523.592308</td>\n",
       "    </tr>\n",
       "    <tr>\n",
       "      <th>std</th>\n",
       "      <td>0.996293</td>\n",
       "      <td>0.518302</td>\n",
       "      <td>0.437058</td>\n",
       "      <td>3444.008948</td>\n",
       "    </tr>\n",
       "    <tr>\n",
       "      <th>min</th>\n",
       "      <td>5.941381</td>\n",
       "      <td>79.694183</td>\n",
       "      <td>0.900000</td>\n",
       "      <td>1.000000</td>\n",
       "    </tr>\n",
       "    <tr>\n",
       "      <th>25%</th>\n",
       "      <td>6.648166</td>\n",
       "      <td>80.212542</td>\n",
       "      <td>4.300000</td>\n",
       "      <td>134.250000</td>\n",
       "    </tr>\n",
       "    <tr>\n",
       "      <th>50%</th>\n",
       "      <td>7.033261</td>\n",
       "      <td>80.526527</td>\n",
       "      <td>4.500000</td>\n",
       "      <td>354.500000</td>\n",
       "    </tr>\n",
       "    <tr>\n",
       "      <th>75%</th>\n",
       "      <td>7.961422</td>\n",
       "      <td>80.935187</td>\n",
       "      <td>4.775000</td>\n",
       "      <td>1224.750000</td>\n",
       "    </tr>\n",
       "    <tr>\n",
       "      <th>max</th>\n",
       "      <td>9.820859</td>\n",
       "      <td>81.859583</td>\n",
       "      <td>5.000000</td>\n",
       "      <td>26736.000000</td>\n",
       "    </tr>\n",
       "  </tbody>\n",
       "</table>\n",
       "</div>"
      ],
      "text/plain": [
       "              lat         lng      rating  user_ratings_total\n",
       "count  400.000000  400.000000  390.000000          390.000000\n",
       "mean     7.323554   80.581228    4.454615         1523.592308\n",
       "std      0.996293    0.518302    0.437058         3444.008948\n",
       "min      5.941381   79.694183    0.900000            1.000000\n",
       "25%      6.648166   80.212542    4.300000          134.250000\n",
       "50%      7.033261   80.526527    4.500000          354.500000\n",
       "75%      7.961422   80.935187    4.775000         1224.750000\n",
       "max      9.820859   81.859583    5.000000        26736.000000"
      ]
     },
     "execution_count": 7,
     "metadata": {},
     "output_type": "execute_result"
    }
   ],
   "source": [
    "df.describe()"
   ]
  },
  {
   "cell_type": "code",
   "execution_count": 8,
   "id": "8ac26460-d162-4467-80d9-00ef7e2b596f",
   "metadata": {},
   "outputs": [
    {
     "data": {
      "text/plain": [
       "name                   0\n",
       "activities             0\n",
       "lat                    0\n",
       "lng                    0\n",
       "formatted_address      0\n",
       "rating                10\n",
       "user_ratings_total    10\n",
       "latest_reviews         0\n",
       "dtype: int64"
      ]
     },
     "execution_count": 8,
     "metadata": {},
     "output_type": "execute_result"
    }
   ],
   "source": [
    "df.isnull().sum()"
   ]
  },
  {
   "cell_type": "code",
   "execution_count": 9,
   "id": "19458178-68a0-408c-8e7a-b038e27a8c78",
   "metadata": {},
   "outputs": [
    {
     "data": {
      "text/plain": [
       "name                  0.0\n",
       "activities            0.0\n",
       "lat                   0.0\n",
       "lng                   0.0\n",
       "formatted_address     0.0\n",
       "rating                2.5\n",
       "user_ratings_total    2.5\n",
       "latest_reviews        0.0\n",
       "dtype: float64"
      ]
     },
     "execution_count": 9,
     "metadata": {},
     "output_type": "execute_result"
    }
   ],
   "source": [
    "#number of Missing values as a percentage\n",
    "(df.isnull().sum()/(len(df)))*100"
   ]
  },
  {
   "cell_type": "code",
   "execution_count": 10,
   "id": "4efa89e2-5e7c-416b-9555-b0d917b291c4",
   "metadata": {},
   "outputs": [],
   "source": [
    "# Remove rows with any null values\n",
    "df1 = df.dropna()"
   ]
  },
  {
   "cell_type": "code",
   "execution_count": 11,
   "id": "39c7b580-780b-469b-a9d9-6cc01b7cc8a8",
   "metadata": {},
   "outputs": [
    {
     "name": "stdout",
     "output_type": "stream",
     "text": [
      "<class 'pandas.core.frame.DataFrame'>\n",
      "Index: 390 entries, 0 to 409\n",
      "Data columns (total 5 columns):\n",
      " #   Column              Non-Null Count  Dtype  \n",
      "---  ------              --------------  -----  \n",
      " 0   name                390 non-null    object \n",
      " 1   activities          390 non-null    object \n",
      " 2   rating              390 non-null    float64\n",
      " 3   user_ratings_total  390 non-null    float64\n",
      " 4   latest_reviews      390 non-null    object \n",
      "dtypes: float64(2), object(3)\n",
      "memory usage: 18.3+ KB\n"
     ]
    }
   ],
   "source": [
    "# Remove some columns from data set\n",
    "df2 = df1.drop(['lat','lng','formatted_address'], axis = 1)\n",
    "df2.info()"
   ]
  },
  {
   "cell_type": "markdown",
   "id": "a3bd9f07-f172-4a9b-8995-6d8322c79664",
   "metadata": {},
   "source": [
    "## Clean the latest reviews column"
   ]
  },
  {
   "cell_type": "code",
   "execution_count": 12,
   "id": "e6f992b0-97c5-45a5-a4cc-32c2d9967d08",
   "metadata": {},
   "outputs": [],
   "source": [
    "def clean_text_with_ftfy(text):\n",
    "    fixed_text = ftfy.fix_text(text)\n",
    "    return unidecode(fixed_text)\n",
    "\n",
    "\n",
    "# Clean all reviews in the 'latest_reviews' column\n",
    "df2['latest_reviews'] = df2['latest_reviews'].apply(clean_text_with_ftfy)"
   ]
  },
  {
   "cell_type": "code",
   "execution_count": 13,
   "id": "742a8f2d-e7aa-44bf-a17d-31304656a7b2",
   "metadata": {},
   "outputs": [
    {
     "data": {
      "text/html": [
       "<div>\n",
       "<style scoped>\n",
       "    .dataframe tbody tr th:only-of-type {\n",
       "        vertical-align: middle;\n",
       "    }\n",
       "\n",
       "    .dataframe tbody tr th {\n",
       "        vertical-align: top;\n",
       "    }\n",
       "\n",
       "    .dataframe thead th {\n",
       "        text-align: right;\n",
       "    }\n",
       "</style>\n",
       "<table border=\"1\" class=\"dataframe\">\n",
       "  <thead>\n",
       "    <tr style=\"text-align: right;\">\n",
       "      <th></th>\n",
       "      <th>name</th>\n",
       "      <th>activities</th>\n",
       "      <th>rating</th>\n",
       "      <th>user_ratings_total</th>\n",
       "      <th>latest_reviews</th>\n",
       "    </tr>\n",
       "  </thead>\n",
       "  <tbody>\n",
       "    <tr>\n",
       "      <th>0</th>\n",
       "      <td>Arugam Bay Beach</td>\n",
       "      <td>['beach visits', 'beachfront dining', 'surfing']</td>\n",
       "      <td>4.8</td>\n",
       "      <td>1591.0</td>\n",
       "      <td>['Arugam Bay Beach is a surfer's paradise! I s...</td>\n",
       "    </tr>\n",
       "    <tr>\n",
       "      <th>1</th>\n",
       "      <td>Mirissa Beach</td>\n",
       "      <td>['beach visits', 'beachfront dining', 'snorkel...</td>\n",
       "      <td>4.6</td>\n",
       "      <td>1748.0</td>\n",
       "      <td>['Mirissa Beach is truly a gem on Sri Lanka's ...</td>\n",
       "    </tr>\n",
       "    <tr>\n",
       "      <th>2</th>\n",
       "      <td>Weligama Beach (surf and stay)</td>\n",
       "      <td>['beach visits', 'surfing']</td>\n",
       "      <td>4.4</td>\n",
       "      <td>325.0</td>\n",
       "      <td>['Weligama Beach is a fantastic spot for both ...</td>\n",
       "    </tr>\n",
       "    <tr>\n",
       "      <th>4</th>\n",
       "      <td>Hikkaduwa Beach</td>\n",
       "      <td>['beach visits', 'snorkeling', 'surfing', 'tur...</td>\n",
       "      <td>4.7</td>\n",
       "      <td>1438.0</td>\n",
       "      <td>['Hikkaduwa Beach is a delightful escape for s...</td>\n",
       "    </tr>\n",
       "    <tr>\n",
       "      <th>5</th>\n",
       "      <td>Tangalle</td>\n",
       "      <td>['beach visits', 'surfing']</td>\n",
       "      <td>5.0</td>\n",
       "      <td>3.0</td>\n",
       "      <td>['Tangalle was a bit of a letdown for me. The ...</td>\n",
       "    </tr>\n",
       "    <tr>\n",
       "      <th>...</th>\n",
       "      <td>...</td>\n",
       "      <td>...</td>\n",
       "      <td>...</td>\n",
       "      <td>...</td>\n",
       "      <td>...</td>\n",
       "    </tr>\n",
       "    <tr>\n",
       "      <th>404</th>\n",
       "      <td>Nilaveli Beach</td>\n",
       "      <td>[ 'beach visits', 'kayaking', 'paddleboarding'...</td>\n",
       "      <td>4.5</td>\n",
       "      <td>1247.0</td>\n",
       "      <td>['Nilaveli Beach is a beautiful escape with st...</td>\n",
       "    </tr>\n",
       "    <tr>\n",
       "      <th>406</th>\n",
       "      <td>Uppuveli Beach</td>\n",
       "      <td>[ 'beach visits', 'snorkeling', 'sailing', 'tu...</td>\n",
       "      <td>4.3</td>\n",
       "      <td>399.0</td>\n",
       "      <td>['Uppuveli Beach is a stunning escape! The sof...</td>\n",
       "    </tr>\n",
       "    <tr>\n",
       "      <th>407</th>\n",
       "      <td>Koggala Beach</td>\n",
       "      <td>['snorkeling', 'scuba diving', 'turtle watchin...</td>\n",
       "      <td>4.3</td>\n",
       "      <td>353.0</td>\n",
       "      <td>['Koggala Beach is a hidden gem! The soft sand...</td>\n",
       "    </tr>\n",
       "    <tr>\n",
       "      <th>408</th>\n",
       "      <td>Marakolliya Beach</td>\n",
       "      <td>['surfing', 'whale watching']\\n</td>\n",
       "      <td>4.3</td>\n",
       "      <td>180.0</td>\n",
       "      <td>['Marakolliya Beach is a hidden gem! The waves...</td>\n",
       "    </tr>\n",
       "    <tr>\n",
       "      <th>409</th>\n",
       "      <td>Pasikuda Beach</td>\n",
       "      <td>['beach visits', 'photography']\\n</td>\n",
       "      <td>4.4</td>\n",
       "      <td>1142.0</td>\n",
       "      <td>['Pasikuda Beach is a hidden gem! The pristine...</td>\n",
       "    </tr>\n",
       "  </tbody>\n",
       "</table>\n",
       "<p>390 rows × 5 columns</p>\n",
       "</div>"
      ],
      "text/plain": [
       "                               name  \\\n",
       "0                  Arugam Bay Beach   \n",
       "1                     Mirissa Beach   \n",
       "2    Weligama Beach (surf and stay)   \n",
       "4                   Hikkaduwa Beach   \n",
       "5                          Tangalle   \n",
       "..                              ...   \n",
       "404                  Nilaveli Beach   \n",
       "406                  Uppuveli Beach   \n",
       "407                   Koggala Beach   \n",
       "408               Marakolliya Beach   \n",
       "409                  Pasikuda Beach   \n",
       "\n",
       "                                            activities  rating  \\\n",
       "0     ['beach visits', 'beachfront dining', 'surfing']     4.8   \n",
       "1    ['beach visits', 'beachfront dining', 'snorkel...     4.6   \n",
       "2                          ['beach visits', 'surfing']     4.4   \n",
       "4    ['beach visits', 'snorkeling', 'surfing', 'tur...     4.7   \n",
       "5                          ['beach visits', 'surfing']     5.0   \n",
       "..                                                 ...     ...   \n",
       "404  [ 'beach visits', 'kayaking', 'paddleboarding'...     4.5   \n",
       "406  [ 'beach visits', 'snorkeling', 'sailing', 'tu...     4.3   \n",
       "407  ['snorkeling', 'scuba diving', 'turtle watchin...     4.3   \n",
       "408                    ['surfing', 'whale watching']\\n     4.3   \n",
       "409                  ['beach visits', 'photography']\\n     4.4   \n",
       "\n",
       "     user_ratings_total                                     latest_reviews  \n",
       "0                1591.0  ['Arugam Bay Beach is a surfer's paradise! I s...  \n",
       "1                1748.0  ['Mirissa Beach is truly a gem on Sri Lanka's ...  \n",
       "2                 325.0  ['Weligama Beach is a fantastic spot for both ...  \n",
       "4                1438.0  ['Hikkaduwa Beach is a delightful escape for s...  \n",
       "5                   3.0  ['Tangalle was a bit of a letdown for me. The ...  \n",
       "..                  ...                                                ...  \n",
       "404              1247.0  ['Nilaveli Beach is a beautiful escape with st...  \n",
       "406               399.0  ['Uppuveli Beach is a stunning escape! The sof...  \n",
       "407               353.0  ['Koggala Beach is a hidden gem! The soft sand...  \n",
       "408               180.0  ['Marakolliya Beach is a hidden gem! The waves...  \n",
       "409              1142.0  ['Pasikuda Beach is a hidden gem! The pristine...  \n",
       "\n",
       "[390 rows x 5 columns]"
      ]
     },
     "execution_count": 13,
     "metadata": {},
     "output_type": "execute_result"
    }
   ],
   "source": [
    "df2"
   ]
  },
  {
   "cell_type": "code",
   "execution_count": 14,
   "id": "d2d1fa67-d29b-4947-8814-bcc1877c874e",
   "metadata": {},
   "outputs": [
    {
     "data": {
      "text/html": [
       "<div>\n",
       "<style scoped>\n",
       "    .dataframe tbody tr th:only-of-type {\n",
       "        vertical-align: middle;\n",
       "    }\n",
       "\n",
       "    .dataframe tbody tr th {\n",
       "        vertical-align: top;\n",
       "    }\n",
       "\n",
       "    .dataframe thead th {\n",
       "        text-align: right;\n",
       "    }\n",
       "</style>\n",
       "<table border=\"1\" class=\"dataframe\">\n",
       "  <thead>\n",
       "    <tr style=\"text-align: right;\">\n",
       "      <th></th>\n",
       "      <th>rating</th>\n",
       "      <th>user_ratings_total</th>\n",
       "    </tr>\n",
       "  </thead>\n",
       "  <tbody>\n",
       "    <tr>\n",
       "      <th>count</th>\n",
       "      <td>390.000000</td>\n",
       "      <td>390.000000</td>\n",
       "    </tr>\n",
       "    <tr>\n",
       "      <th>mean</th>\n",
       "      <td>4.454615</td>\n",
       "      <td>1523.592308</td>\n",
       "    </tr>\n",
       "    <tr>\n",
       "      <th>std</th>\n",
       "      <td>0.437058</td>\n",
       "      <td>3444.008948</td>\n",
       "    </tr>\n",
       "    <tr>\n",
       "      <th>min</th>\n",
       "      <td>0.900000</td>\n",
       "      <td>1.000000</td>\n",
       "    </tr>\n",
       "    <tr>\n",
       "      <th>25%</th>\n",
       "      <td>4.300000</td>\n",
       "      <td>134.250000</td>\n",
       "    </tr>\n",
       "    <tr>\n",
       "      <th>50%</th>\n",
       "      <td>4.500000</td>\n",
       "      <td>354.500000</td>\n",
       "    </tr>\n",
       "    <tr>\n",
       "      <th>75%</th>\n",
       "      <td>4.775000</td>\n",
       "      <td>1224.750000</td>\n",
       "    </tr>\n",
       "    <tr>\n",
       "      <th>max</th>\n",
       "      <td>5.000000</td>\n",
       "      <td>26736.000000</td>\n",
       "    </tr>\n",
       "  </tbody>\n",
       "</table>\n",
       "</div>"
      ],
      "text/plain": [
       "           rating  user_ratings_total\n",
       "count  390.000000          390.000000\n",
       "mean     4.454615         1523.592308\n",
       "std      0.437058         3444.008948\n",
       "min      0.900000            1.000000\n",
       "25%      4.300000          134.250000\n",
       "50%      4.500000          354.500000\n",
       "75%      4.775000         1224.750000\n",
       "max      5.000000        26736.000000"
      ]
     },
     "execution_count": 14,
     "metadata": {},
     "output_type": "execute_result"
    }
   ],
   "source": [
    "df2.describe()"
   ]
  },
  {
   "cell_type": "code",
   "execution_count": 15,
   "id": "780b8558-4ca7-440c-bc2e-049175ed57ff",
   "metadata": {},
   "outputs": [
    {
     "name": "stdout",
     "output_type": "stream",
     "text": [
      "Categorical Variables:\n",
      "Index(['name', 'activities', 'latest_reviews'], dtype='object')\n",
      "Numerical Variables:\n",
      "['rating', 'user_ratings_total']\n"
     ]
    }
   ],
   "source": [
    "cat_cols=df2.select_dtypes(include=['object']).columns\n",
    "num_cols = df2.select_dtypes(include=np.number).columns.tolist()\n",
    "print(\"Categorical Variables:\")\n",
    "print(cat_cols)\n",
    "print(\"Numerical Variables:\")\n",
    "print(num_cols)"
   ]
  },
  {
   "cell_type": "code",
   "execution_count": 16,
   "id": "1b732fab-eabd-4893-9dcd-05cfd28d56e6",
   "metadata": {},
   "outputs": [
    {
     "data": {
      "image/png": "[encoded data removed]",
      "text/plain": [
       "<Figure size 640x480 with 1 Axes>"
      ]
     },
     "metadata": {},
     "output_type": "display_data"
    }
   ],
   "source": [
    "# Create a scatter plot\n",
    "plt.scatter(df2['user_ratings_total'], df2['rating'], color='blue')\n",
    "\n",
    "# Add labels and a title\n",
    "plt.xlabel('Review Count')\n",
    "plt.ylabel('Rating')\n",
    "plt.title('Review Count vs Ratings')\n",
    "\n",
    "# Show the plot\n",
    "plt.show()"
   ]
  },
  {
   "cell_type": "markdown",
   "id": "ba719946-4b60-4b36-a67c-5ea189c90dca",
   "metadata": {},
   "source": [
    "## Save the preprocessed dataset"
   ]
  },
  {
   "cell_type": "code",
   "execution_count": 17,
   "id": "3521795a-d77a-4464-bfdc-f27114e67913",
   "metadata": {},
   "outputs": [],
   "source": [
    "# Save the preprocessed DataFrame as an Excel file\n",
    "df2.to_excel('PLACES_FINAL.xlsx', index=False)"
   ]
  },
  {
   "cell_type": "code",
   "execution_count": 39,
   "id": "7276c384-e1eb-4d15-a5a8-8cf064b3f528",
   "metadata": {},
   "outputs": [],
   "source": [
    "# #Weighted Average\n",
    "\n",
    "# #Calculating components for the weighted average formula\n",
    "\n",
    "# v = df1['user_ratings_total']\n",
    "# R = df1['rating']\n",
    "# C = df1['rating'].mean()\n",
    "# m = df1['user_ratings_total'].quantile(0.70)"
   ]
  },
  {
   "cell_type": "code",
   "execution_count": 40,
   "id": "08d75fb2-b724-4477-abbb-7d432d5e5532",
   "metadata": {},
   "outputs": [],
   "source": [
    "# df1['weighted_average'] = ((R*v) + (C*m)) / (v + m)"
   ]
  }
 ],
 "metadata": {
  "kernelspec": {
   "display_name": "Python 3 (ipykernel)",
   "language": "python",
   "name": "python3"
  },
  "language_info": {
   "codemirror_mode": {
    "name": "ipython",
    "version": 3
   },
   "file_extension": ".py",
   "mimetype": "text/x-python",
   "name": "python",
   "nbconvert_exporter": "python",
   "pygments_lexer": "ipython3",
   "version": "3.12.4"
  }
 },
 "nbformat": 4,
 "nbformat_minor": 5
}
