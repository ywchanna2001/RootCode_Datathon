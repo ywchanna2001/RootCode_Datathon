{
 "cells": [
  {
   "cell_type": "code",
   "execution_count": 1,
   "id": "c90cee8b-4659-4de9-bda5-1b5fe6c61d3c",
   "metadata": {},
   "outputs": [],
   "source": [
    "import pandas as pd\n",
    "from sklearn.feature_extraction.text import TfidfVectorizer\n",
    "\n",
    "# data = {\n",
    "#     'name': ['Place A', 'Place B', 'Place C'],\n",
    "#     'rating': [4.5, 3.9, 4.8],\n",
    "#     'user_ratings_total': [200, 150, 180],\n",
    "#     'activities': ['Hiking, Swimming', 'Beach', 'Hiking, Sightseeing']\n",
    "# }\n",
    "\n",
    "places_df = pd.DataFrame(data)\n",
    "\n",
    "# TF-IDF Vectorizer for Activities\n",
    "tfidf = TfidfVectorizer(stop_words='english')\n",
    "activities_matrix = tfidf.fit_transform(places_df['activities'])\n",
    "\n",
    "# Convert the matrix to a DataFrame to see the result\n",
    "activities_df = pd.DataFrame(activities_matrix.toarray(), columns=tfidf.get_feature_names_out())\n",
    "\n",
    "# Add the TF-IDF vectorized activities back to the main DataFrame\n",
    "places_df = pd.concat([places_df, activities_df], axis=1)\n",
    "print(places_df)\n"
   ]
  },
  {
   "cell_type": "code",
   "execution_count": null,
   "id": "a2e1a211-8dd3-445a-8cfa-94f02f202fce",
   "metadata": {},
   "outputs": [],
   "source": [
    "from sklearn.preprocessing import MinMaxScaler\n",
    "\n",
    "# Normalize ratings and total ratings to bring them to the same scale\n",
    "scaler = MinMaxScaler()\n",
    "places_df[['Normalized_Average_Rating', 'Normalized_Total_Ratings']] = scaler.fit_transform(places_df[['rating', 'user_ratings_total']])\n",
    "\n",
    "print(places_df)\n"
   ]
  },
  {
   "cell_type": "code",
   "execution_count": null,
   "id": "9b7a0343-8ce5-4885-b4ef-4337d04f9a2a",
   "metadata": {},
   "outputs": [],
   "source": [
    "bucket_list_destination = 'Place A'  # Example bucket list destination\n",
    "\n",
    "# Add a boost to places that match the bucket list destination\n",
    "places_df['Bucket_List_Boost'] = places_df['Place'].apply(lambda x: 10 if x == bucket_list_destination else 0)\n"
   ]
  },
  {
   "cell_type": "code",
   "execution_count": null,
   "id": "9257379c-7cc6-4884-b852-6489ec359307",
   "metadata": {},
   "outputs": [],
   "source": [
    "from sklearn.metrics.pairwise import cosine_similarity\n",
    "\n",
    "# Example user input: preferred activities and bucket list destination\n",
    "user_activities = 'Hiking, Swimming'\n",
    "\n",
    "# Vectorize the user's activities\n",
    "user_activities_vector = tfidf.transform([user_activities])\n",
    "\n",
    "# Calculate the similarity between user preferences and place activities\n",
    "cosine_sim = cosine_similarity(user_activities_vector, activities_matrix)"
   ]
  },
  {
   "cell_type": "code",
   "execution_count": null,
   "id": "c8ee7399-81a7-4a41-9ec3-f40425af1281",
   "metadata": {},
   "outputs": [],
   "source": [
    "# Calculate the final score\n",
    "places_df['Final_Score'] = (\n",
    "    (places_df['Similarity_Score'] * 0.5) + \n",
    "    (places_df['Average_Rating'] * 0.2) + \n",
    "    (places_df['Bucket_List_Boost'] * 0.1) + \n",
    "    (places_df['Total_Ratings'] * 0.2)\n",
    ")\n",
    "\n",
    "# Sort places based on the final score\n",
    "recommended_places = places_df.sort_values(by='Final_Score', ascending=False)\n",
    "\n",
    "# Display top 5 recommended places\n",
    "print(recommended_places[['Place', 'Final_Score']].head(5))\n"
   ]
  }
 ],
 "metadata": {
  "kernelspec": {
   "display_name": "Python 3 (ipykernel)",
   "language": "python",
   "name": "python3"
  },
  "language_info": {
   "codemirror_mode": {
    "name": "ipython",
    "version": 3
   },
   "file_extension": ".py",
   "mimetype": "text/x-python",
   "name": "python",
   "nbconvert_exporter": "python",
   "pygments_lexer": "ipython3",
   "version": "3.12.4"
  }
 },
 "nbformat": 4,
 "nbformat_minor": 5
}
