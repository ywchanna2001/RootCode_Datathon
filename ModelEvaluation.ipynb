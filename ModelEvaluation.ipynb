{
 "cells": [
  {
   "cell_type": "code",
   "execution_count": 35,
   "id": "0bbcaf8d-32a5-41bd-a1b2-4c8ac580fbdf",
   "metadata": {},
   "outputs": [],
   "source": [
    "import pandas as pd\n",
    "import numpy as np\n",
    "from sklearn.metrics.pairwise import cosine_similarity\n",
    "from sklearn.feature_extraction.text import TfidfVectorizer\n",
    "from sklearn.preprocessing import MinMaxScaler"
   ]
  },
  {
   "cell_type": "code",
   "execution_count": 36,
   "id": "b7e7dc08-75e8-4311-bf56-788e593ffe50",
   "metadata": {},
   "outputs": [],
   "source": [
    "def recommend_places(preferred_activities, bucket_list_destination):\n",
    "    # Your existing model logic\n",
    "    tfidf = TfidfVectorizer(stop_words='english')\n",
    "    activities_matrix = tfidf.fit_transform(places_df['activities'])\n",
    "\n",
    "    # Normalize ratings\n",
    "    scaler = MinMaxScaler()\n",
    "    places_df[['Normalized_Average_Rating', 'Normalized_Total_Ratings']] = scaler.fit_transform(places_df[['rating', 'user_ratings_total']])\n",
    "\n",
    "    # Bucket list boost\n",
    "    places_df['Bucket_List_Boost'] = places_df['name'].apply(lambda x: 10 if x == bucket_list_destination else 0)\n",
    "\n",
    "    # Vectorize user activities\n",
    "    user_activities_vector = tfidf.transform([preferred_activities])\n",
    "    \n",
    "    # Calculate similarity\n",
    "    cosine_sim = cosine_similarity(user_activities_vector, activities_matrix)\n",
    "    \n",
    "    # Similarity score\n",
    "    places_df['Similarity_Score'] = cosine_sim[0]\n",
    "    \n",
    "    # Calculate the final score\n",
    "    places_df['Final_Score'] = (\n",
    "        (places_df['Similarity_Score'] * 0.5) + \n",
    "        (places_df['Normalized_Average_Rating'] * 0.1) + \n",
    "        (places_df['Bucket_List_Boost'] * 0.3) + \n",
    "        (places_df['Normalized_Total_Ratings'] * 0.1)\n",
    "    )\n",
    "    \n",
    "    # Sort and return top 5 places\n",
    "    recommended_places = places_df.sort_values(by='Final_Score', ascending=False)\n",
    "    return recommended_places[['name', 'Final_Score']].head(5)\n"
   ]
  },
  {
   "cell_type": "code",
   "execution_count": 37,
   "id": "18476d70-25e9-4ecc-b4bc-202c14d9c7f7",
   "metadata": {},
   "outputs": [],
   "source": [
    "test_data = pd.read_excel('DataSets/Visitors Preference Dataset.xlsx')  # Load your actual dataset\n",
    "places_df = pd.read_excel('DataSets/PLACES_FINAL.xlsx')"
   ]
  },
  {
   "cell_type": "code",
   "execution_count": 38,
   "id": "0c6db38c-0666-4b85-9eaa-97cd510a540e",
   "metadata": {},
   "outputs": [
    {
     "data": {
      "text/html": [
       "<div>\n",
       "<style scoped>\n",
       "    .dataframe tbody tr th:only-of-type {\n",
       "        vertical-align: middle;\n",
       "    }\n",
       "\n",
       "    .dataframe tbody tr th {\n",
       "        vertical-align: top;\n",
       "    }\n",
       "\n",
       "    .dataframe thead th {\n",
       "        text-align: right;\n",
       "    }\n",
       "</style>\n",
       "<table border=\"1\" class=\"dataframe\">\n",
       "  <thead>\n",
       "    <tr style=\"text-align: right;\">\n",
       "      <th></th>\n",
       "      <th>User ID</th>\n",
       "      <th>Name</th>\n",
       "      <th>Email</th>\n",
       "      <th>Preferred Activities</th>\n",
       "      <th>Bucket list destinations Sri Lanka</th>\n",
       "    </tr>\n",
       "  </thead>\n",
       "  <tbody>\n",
       "    <tr>\n",
       "      <th>0</th>\n",
       "      <td>1</td>\n",
       "      <td>Jennifer Quinn</td>\n",
       "      <td>jennifer.quinn@example.com</td>\n",
       "      <td>['cycling', 'historical monuments', 'village h...</td>\n",
       "      <td>['Polonnaruwa', 'Hatton', 'Anuradhapura', 'Ell...</td>\n",
       "    </tr>\n",
       "    <tr>\n",
       "      <th>1</th>\n",
       "      <td>2</td>\n",
       "      <td>Emily Perry</td>\n",
       "      <td>emily.perry@example.com</td>\n",
       "      <td>['butterfly watching', 'hot springs', 'wildlif...</td>\n",
       "      <td>['Madunagala Hot Water Spring', 'Wilpattu Nati...</td>\n",
       "    </tr>\n",
       "    <tr>\n",
       "      <th>2</th>\n",
       "      <td>3</td>\n",
       "      <td>Danielle Mcbride</td>\n",
       "      <td>danielle.mcbride@example.com</td>\n",
       "      <td>['sea cruises', 'themed parks', 'craft worksho...</td>\n",
       "      <td>['Mirissa Beach', 'Negombo Lagoon', 'Batadomba...</td>\n",
       "    </tr>\n",
       "    <tr>\n",
       "      <th>3</th>\n",
       "      <td>4</td>\n",
       "      <td>Angelica Wilson</td>\n",
       "      <td>angelica.wilson@example.com</td>\n",
       "      <td>['fishing', 'hot springs', 'sailing']</td>\n",
       "      <td>['Maha Oya Hot Water Springs', 'Colombo Port C...</td>\n",
       "    </tr>\n",
       "    <tr>\n",
       "      <th>4</th>\n",
       "      <td>5</td>\n",
       "      <td>Laurie Powers</td>\n",
       "      <td>laurie.powers@example.com</td>\n",
       "      <td>['history tours', 'sailing', 'literary tours']</td>\n",
       "      <td>['Negombo Lagoon', 'Colombo Port City', 'Galle...</td>\n",
       "    </tr>\n",
       "  </tbody>\n",
       "</table>\n",
       "</div>"
      ],
      "text/plain": [
       "   User ID              Name                         Email  \\\n",
       "0        1    Jennifer Quinn    jennifer.quinn@example.com   \n",
       "1        2       Emily Perry       emily.perry@example.com   \n",
       "2        3  Danielle Mcbride  danielle.mcbride@example.com   \n",
       "3        4   Angelica Wilson   angelica.wilson@example.com   \n",
       "4        5     Laurie Powers     laurie.powers@example.com   \n",
       "\n",
       "                                Preferred Activities  \\\n",
       "0  ['cycling', 'historical monuments', 'village h...   \n",
       "1  ['butterfly watching', 'hot springs', 'wildlif...   \n",
       "2  ['sea cruises', 'themed parks', 'craft worksho...   \n",
       "3              ['fishing', 'hot springs', 'sailing']   \n",
       "4     ['history tours', 'sailing', 'literary tours']   \n",
       "\n",
       "                  Bucket list destinations Sri Lanka  \n",
       "0  ['Polonnaruwa', 'Hatton', 'Anuradhapura', 'Ell...  \n",
       "1  ['Madunagala Hot Water Spring', 'Wilpattu Nati...  \n",
       "2  ['Mirissa Beach', 'Negombo Lagoon', 'Batadomba...  \n",
       "3  ['Maha Oya Hot Water Springs', 'Colombo Port C...  \n",
       "4  ['Negombo Lagoon', 'Colombo Port City', 'Galle...  "
      ]
     },
     "execution_count": 38,
     "metadata": {},
     "output_type": "execute_result"
    }
   ],
   "source": [
    "test_data.head()"
   ]
  },
  {
   "cell_type": "code",
   "execution_count": 39,
   "id": "f0adb5e9-07d2-4a6d-bdf1-2fdef69b30e0",
   "metadata": {},
   "outputs": [],
   "source": [
    "def precision_at_k(recommended, relevant, k):\n",
    "    recommended_at_k = recommended[:k]\n",
    "    hits = len(set(recommended_at_k) & set(relevant))\n",
    "    return hits / k\n",
    "\n",
    "def evaluate_precision_at_k(test_data, model, k=5):\n",
    "    activity_precisions = []\n",
    "    destination_precisions = []\n",
    "    \n",
    "    for i, row in test_data.iterrows():\n",
    "        preferred_activities = row['Preferred Activities']\n",
    "        bucket_list = row['Bucket list destinations Sri Lanka']\n",
    "        \n",
    "        # Get the top K recommended places\n",
    "        recommended_places = model(preferred_activities, bucket_list)['name'].tolist()\n",
    "        \n",
    "        # Check for activity matches\n",
    "        relevant_activities = test_data[test_data['Preferred Activities'] == preferred_activities]['Preferred Activities'].tolist()\n",
    "        activity_precision = precision_at_k(recommended_places, relevant_activities, k)\n",
    "        activity_precisions.append(activity_precision)\n",
    "        \n",
    "        # Check for destination matches\n",
    "        relevant_destinations = test_data[test_data['Bucket list destinations Sri Lanka'] == bucket_list]['Bucket list destinations Sri Lanka'].tolist()\n",
    "        destination_precision = precision_at_k(recommended_places, relevant_destinations, k)\n",
    "        destination_precisions.append(destination_precision)\n",
    "    \n",
    "    # Calculate average precision across all users\n",
    "    avg_activity_precision = np.mean(activity_precisions)\n",
    "    avg_destination_precision = np.mean(destination_precisions)\n",
    "    \n",
    "    print(f'Average Precision@{k} for Activities: {avg_activity_precision:.2f}')\n",
    "    print(f'Average Precision@{k} for Destinations: {avg_destination_precision:.2f}')\n"
   ]
  },
  {
   "cell_type": "code",
   "execution_count": 41,
   "id": "6e4708cf-01f6-47e3-9281-1efbf05ed0a6",
   "metadata": {},
   "outputs": [
    {
     "name": "stdout",
     "output_type": "stream",
     "text": [
      "Average Precision@5 for Activities: 0.00\n",
      "Average Precision@5 for Destinations: 0.00\n"
     ]
    }
   ],
   "source": [
    "# Select only the first 100 rows of the test dataset\n",
    "small_test_data = test_data.head(100)\n",
    "\n",
    "# Run the evaluation on the smaller dataset\n",
    "evaluate_precision_at_k(small_test_data, recommend_places, k=5)\n"
   ]
  },
  {
   "cell_type": "code",
   "execution_count": 31,
   "id": "a5f0b0fa-3f73-47cd-9f94-f300f56911a7",
   "metadata": {},
   "outputs": [
    {
     "name": "stdout",
     "output_type": "stream",
     "text": [
      "Average Precision@5 for Activities: 0.00\n",
      "Average Precision@5 for Destinations: 0.00\n"
     ]
    }
   ],
   "source": [
    "# Load your test dataset with user preferences (Preferred Activities, Bucket list destinations)\n",
    "# and your model function to get recommended places\n",
    "\n",
    "evaluate_precision_at_k(test_data, recommend_places, k=5)"
   ]
  },
  {
   "cell_type": "code",
   "execution_count": 33,
   "id": "3e7893d8-caaf-493d-b005-c1dc05fc73af",
   "metadata": {},
   "outputs": [
    {
     "ename": "NameError",
     "evalue": "name 'avg_activity_precision' is not defined",
     "output_type": "error",
     "traceback": [
      "\u001b[1;31m---------------------------------------------------------------------------\u001b[0m",
      "\u001b[1;31mNameError\u001b[0m                                 Traceback (most recent call last)",
      "Cell \u001b[1;32mIn[33], line 1\u001b[0m\n\u001b[1;32m----> 1\u001b[0m \u001b[38;5;28mprint\u001b[39m(\u001b[38;5;124mf\u001b[39m\u001b[38;5;124m'\u001b[39m\u001b[38;5;124mAverage Precision@\u001b[39m\u001b[38;5;132;01m{\u001b[39;00m\u001b[38;5;241m5\u001b[39m\u001b[38;5;132;01m}\u001b[39;00m\u001b[38;5;124m for Activities: \u001b[39m\u001b[38;5;132;01m{\u001b[39;00mavg_activity_precision\u001b[38;5;132;01m:\u001b[39;00m\u001b[38;5;124m.6f\u001b[39m\u001b[38;5;132;01m}\u001b[39;00m\u001b[38;5;124m'\u001b[39m)\n\u001b[0;32m      2\u001b[0m \u001b[38;5;28mprint\u001b[39m(\u001b[38;5;124mf\u001b[39m\u001b[38;5;124m'\u001b[39m\u001b[38;5;124mAverage Precision@\u001b[39m\u001b[38;5;132;01m{\u001b[39;00m\u001b[38;5;241m5\u001b[39m\u001b[38;5;132;01m}\u001b[39;00m\u001b[38;5;124m for Destinations: \u001b[39m\u001b[38;5;132;01m{\u001b[39;00mavg_destination_precision\u001b[38;5;132;01m:\u001b[39;00m\u001b[38;5;124m.6f\u001b[39m\u001b[38;5;132;01m}\u001b[39;00m\u001b[38;5;124m'\u001b[39m)\n",
      "\u001b[1;31mNameError\u001b[0m: name 'avg_activity_precision' is not defined"
     ]
    }
   ],
   "source": [
    "    print(f'Average Precision@{5} for Activities: {avg_activity_precision:.6f}')\n",
    "    print(f'Average Precision@{5} for Destinations: {avg_destination_precision:.6f}')"
   ]
  },
  {
   "cell_type": "code",
   "execution_count": null,
   "id": "9fd69bf1-a925-4e97-b8e1-3ec3d2fd897f",
   "metadata": {},
   "outputs": [],
   "source": []
  }
 ],
 "metadata": {
  "kernelspec": {
   "display_name": "Python 3 (ipykernel)",
   "language": "python",
   "name": "python3"
  },
  "language_info": {
   "codemirror_mode": {
    "name": "ipython",
    "version": 3
   },
   "file_extension": ".py",
   "mimetype": "text/x-python",
   "name": "python",
   "nbconvert_exporter": "python",
   "pygments_lexer": "ipython3",
   "version": "3.12.4"
  }
 },
 "nbformat": 4,
 "nbformat_minor": 5
}
